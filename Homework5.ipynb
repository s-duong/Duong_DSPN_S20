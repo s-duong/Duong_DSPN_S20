{
 "cells": [
  {
   "cell_type": "markdown",
   "metadata": {},
   "source": [
    "# Homework 5: \n",
    "\n",
    "**DUE:** 5pm EST, March 17, 2020\n",
    "\n",
    "<br>\n",
    "\n",
    "### **Conceptual:** Short answer questions. Be concise"
   ]
  },
  {
   "cell_type": "markdown",
   "metadata": {},
   "source": [
    "---\n",
    "\n",
    "1. Suppose that we have a dataset with five predictors, $X_1 = GPA$, $X_2 = IQ$, $X_3 = Gender$ (1 for Female and 0 for Male), $X_4$ = Interaction between GPA and IQ, and $X_5$ = Interaction between GPA and Gender. The response variable ($Y$) is starting salary after graduation (in thousands of dollars). Suppose we use least squares to fit the model, and get $\\hat{\\beta_0}$ =50, $\\hat{\\beta_1}$ =20, $\\hat{\\beta_2}$ =0.07, $\\hat{\\beta_3}$ =35, $\\hat{\\beta_4}$ =0.01, $\\hat{\\beta_5}$ =-10.\n",
    "\n",
    "<br>\n",
    "    \n",
    "_(a) Which answer is correct, and why?_\n",
    "\n",
    "i. For a fixed value of IQ and GPA, males earn more on average than females.\n",
    "\n",
    "ii. For a fixed value of IQ and GPA, females earn more on average than males.\n",
    "\n",
    "iii. For a fixed value of IQ and GPA, males earn more on average than females provided that the GPA is high enough.\n",
    "\n",
    "iv. For a fixed value of IQ and GPA, females earn more on average than males provided that the GPA is high enough."
   ]
  },
  {
   "cell_type": "markdown",
   "metadata": {},
   "source": [
    "**Answer:**\n",
    "iii. For a fixed value of IQ and GPA, males earn more than females on average provided that the GPA is high enough\n",
    "\n",
    "The regression equation tells us that salary generally increases as GPA increases for both males and females. The negative interaction term tells us that the slopes of the regression lines for the relation between GPA and salary differs by gender and that females earn less than males at some values of GPA. I think plugging in values to visualize the predicted salaries is helpful... For instance, if we consider a high GPA value, e.g. 4, and plug that into the regression equation, we'll observe that the predicted salary for males is higher than females. If we consider a low GPA value, e.g. 2, we'll observe that the predicted salary for males is lower than females. We can also plug in values between 2 and 4 for more information. "
   ]
  },
  {
   "cell_type": "markdown",
   "metadata": {},
   "source": [
    "<br>\n",
    "\n",
    "_(b) Predict the salary of a female graduate with IQ of 110 and a GPA of 4.0._"
   ]
  },
  {
   "cell_type": "markdown",
   "metadata": {},
   "source": [
    "**Answer:**\n",
    "$Y = 50 + 20X_1 + .07X_2 + 35X_3 + .01X_4 - 10X_5$\n",
    "$Y = 50 + 20(4) + .07(110) + 35(1) + .01(4)(110) - 10(4)(1)$\n",
    "$Y = 137,100$\n",
    "\n",
    "The salary is $137,1000."
   ]
  },
  {
   "cell_type": "markdown",
   "metadata": {},
   "source": [
    "<br>\n",
    "\n",
    "_(c) True or false: Since the coefficient for the GPA/IQ interaction term is very small, there is very little evidence of an interaction effect. Justify your answer._"
   ]
  },
  {
   "cell_type": "markdown",
   "metadata": {},
   "source": [
    "**Answer:**\n",
    "False. The coefficient for the interaction term specifies the magnitude of the association between GPA, IQ, and salary, not whether there is an effect or not.\n"
   ]
  },
  {
   "cell_type": "markdown",
   "metadata": {},
   "source": [
    "---\n",
    "\n",
    "2. What are high leverage observations? How do they impact your model fits? What assumption of linear regression do they violate?"
   ]
  },
  {
   "cell_type": "markdown",
   "metadata": {},
   "source": [
    "**Answer:**\n",
    "High leverage observations are outliers on the predictor variable that bias the estimation of the regression line. They have a stronger relative influence on the estimation of the line than other observations. The presence of these observations violate the assumption of normally distributed residuals because they pull the estimation of the regression line toward them; in a residual plot, the residuals of the other observations would not appear randomly along the 0 line."
   ]
  },
  {
   "cell_type": "markdown",
   "metadata": {},
   "source": [
    "---\n",
    "\n",
    "3. A linear mixed effect model has the form $Y = X\\beta + Z\\upsilon + \\epsilon$. \n",
    "\n",
    "<br>\n",
    "\n",
    "_(a) What are the assumptions about $Z$ and $\\upsilon$ that make this different from using a regular control variable in a simple linear regression model?_"
   ]
  },
  {
   "cell_type": "markdown",
   "metadata": {},
   "source": [
    "**Answer:** \n",
    "In a random factor, $Z$ is assumed to have its own random structure and the units or levels of $Z$ have no meaningful difference (but each level contributes its own variance in $Y$). In other words, $Z$ is assumed to be randomly sampled from some underlying population which can vary across replications of a study. The variance of $v$ is different from the variance of the regression coefficients on the fixed effects. "
   ]
  },
  {
   "cell_type": "markdown",
   "metadata": {},
   "source": [
    "<br>\n",
    "\n",
    "_(b) What is the objective function for this model (i.e., the function that needs to be minimized to find the optimal parameters) and how is it different than the objective function for the ordinary least squares model?_"
   ]
  },
  {
   "cell_type": "markdown",
   "metadata": {},
   "source": [
    "**Answer:**\n",
    "The objective function for the mixed effects model is $$min(||Y-X\\beta-Z\\Lambda_{\\theta}\\upsilon||^2+||\\upsilon||^2),$$ where $\\Lambda$ represents the covariance matrix that explains the random structure of $Z$ and $||\\upsilon||^2$ is a sparsity constraint that shrinks the influence that $Z$ has on the overall model fit. A unit change in $Z$ does not correspond to some unit change in $Y$. This function attempts to minimize error while considering the variance that the levels of $Z$ have in $Y$. <br><br>The function for the OLS model with a confounding variable is $$min(||Y-\\beta_0-X_{real}\\beta_1 - X_{confound} \\beta_2 ||^2)$$ In OLS, you are attempting to minimize the mean squared error and you can include a potentially confounding variable in there to further minimize the MSE. Including a confound means the model will give you the partial effect of $X_{real}$ on $Y$ given $X_{confound}$, assuming the relation between $X_{real}$ and $Y$ is correlated with $X_{confound}$."
   ]
  },
  {
   "cell_type": "markdown",
   "metadata": {},
   "source": [
    "<br>\n",
    "\n",
    "_(c) What advantage does including a random effects term in your model give you with regards to understanding the fixed effects relationship?_"
   ]
  },
  {
   "cell_type": "markdown",
   "metadata": {},
   "source": [
    "**Answer:**\n",
    "Including this factor eliminates the variance observed in $Y$ that is due to random variables; you may overestimate the fixed effects on $Y$ if you don't include random effects.\n"
   ]
  },
  {
   "cell_type": "markdown",
   "metadata": {},
   "source": [
    "<br>\n",
    "\n",
    "_(d) Which of these variables would be considered random factors?_\n",
    "\n",
    "* Age\n",
    "* Subject ID\n",
    "* Classroom number\n",
    "* Gender\n",
    "* Reaction Time\n",
    "* JPEG image filename\n",
    "* Time of day"
   ]
  },
  {
   "cell_type": "markdown",
   "metadata": {},
   "source": [
    "**Answer:**\n",
    "Subject ID, classroom number, JPEG image filename\n"
   ]
  },
  {
   "cell_type": "markdown",
   "metadata": {},
   "source": [
    "---\n",
    "\n",
    "### **Applied:** Show your code & plots\n",
    "\n",
    "We will use both datasets from the CRAN universe and the HCP dataset for these problems. Include conceptual answers to questions as comments in code cells."
   ]
  },
  {
   "cell_type": "markdown",
   "metadata": {},
   "source": [
    "---\n",
    "\n",
    "4. Load the cbpp dataset from the lme4 library. Run ?cbpp after loading the lme4 library to get information on the dataset.\n",
    "\n",
    "(a) Plot the relationship between herd size and CBPP incidence\n"
   ]
  },
  {
   "cell_type": "code",
   "execution_count": 1,
   "metadata": {},
   "outputs": [
    {
     "name": "stderr",
     "output_type": "stream",
     "text": [
      "── \u001b[1mAttaching packages\u001b[22m ─────────────────────────────────────── tidyverse 1.3.0 ──\n",
      "\n",
      "\u001b[32m✔\u001b[39m \u001b[34mggplot2\u001b[39m 3.2.1     \u001b[32m✔\u001b[39m \u001b[34mpurrr  \u001b[39m 0.3.3\n",
      "\u001b[32m✔\u001b[39m \u001b[34mtibble \u001b[39m 2.1.3     \u001b[32m✔\u001b[39m \u001b[34mdplyr  \u001b[39m 0.8.3\n",
      "\u001b[32m✔\u001b[39m \u001b[34mtidyr  \u001b[39m 1.0.0     \u001b[32m✔\u001b[39m \u001b[34mstringr\u001b[39m 1.4.0\n",
      "\u001b[32m✔\u001b[39m \u001b[34mreadr  \u001b[39m 1.3.1     \u001b[32m✔\u001b[39m \u001b[34mforcats\u001b[39m 0.4.0\n",
      "\n",
      "── \u001b[1mConflicts\u001b[22m ────────────────────────────────────────── tidyverse_conflicts() ──\n",
      "\u001b[31m✖\u001b[39m \u001b[34mdplyr\u001b[39m::\u001b[32mfilter()\u001b[39m masks \u001b[34mstats\u001b[39m::filter()\n",
      "\u001b[31m✖\u001b[39m \u001b[34mdplyr\u001b[39m::\u001b[32mlag()\u001b[39m    masks \u001b[34mstats\u001b[39m::lag()\n",
      "\n",
      "Loading required package: Matrix\n",
      "\n",
      "\n",
      "Attaching package: ‘Matrix’\n",
      "\n",
      "\n",
      "The following objects are masked from ‘package:tidyr’:\n",
      "\n",
      "    expand, pack, unpack\n",
      "\n",
      "\n"
     ]
    },
    {
     "data": {
      "text/html": [
       "<ol class=list-inline>\n",
       "\t<li>'herd'</li>\n",
       "\t<li>'incidence'</li>\n",
       "\t<li>'size'</li>\n",
       "\t<li>'period'</li>\n",
       "</ol>\n"
      ],
      "text/latex": [
       "\\begin{enumerate*}\n",
       "\\item 'herd'\n",
       "\\item 'incidence'\n",
       "\\item 'size'\n",
       "\\item 'period'\n",
       "\\end{enumerate*}\n"
      ],
      "text/markdown": [
       "1. 'herd'\n",
       "2. 'incidence'\n",
       "3. 'size'\n",
       "4. 'period'\n",
       "\n",
       "\n"
      ],
      "text/plain": [
       "[1] \"herd\"      \"incidence\" \"size\"      \"period\"   "
      ]
     },
     "metadata": {},
     "output_type": "display_data"
    },
    {
     "data": {
      "image/png": "[encoded data removed]",
      "text/plain": [
       "plot without title"
      ]
     },
     "metadata": {
      "image/png": {
       "height": 420,
       "width": 420
      },
      "text/plain": {
       "height": 420,
       "width": 420
      }
     },
     "output_type": "display_data"
    }
   ],
   "source": [
    "# -------------------------------\n",
    "# Question 4\n",
    "# -------------------------------\n",
    "library(tidyverse)\n",
    "library(lme4)\n",
    "library(ggplot2)\n",
    "names(cbpp)\n",
    "?cbpp\n",
    "ggplot(data=cbpp, aes(size, incidence)) + geom_point() +xlab('Herd Size') + ylab('CBPP Incidence')\n",
    "\n"
   ]
  },
  {
   "cell_type": "markdown",
   "metadata": {},
   "source": [
    "\n",
    "(b) Use the lm function to model the effect of herd size (predictor) on CBPP incidence (response). How does herd size impact disease rate? Report the results of the model.\n"
   ]
  },
  {
   "cell_type": "code",
   "execution_count": 2,
   "metadata": {},
   "outputs": [
    {
     "data": {
      "text/plain": [
       "\n",
       "Call:\n",
       "lm(formula = incidence ~ size, data = cbpp)\n",
       "\n",
       "Residuals:\n",
       "    Min      1Q  Median      3Q     Max \n",
       "-3.1456 -1.5925 -0.4864  0.8006  8.6840 \n",
       "\n",
       "Coefficients:\n",
       "            Estimate Std. Error t value Pr(>|t|)   \n",
       "(Intercept) -0.31106    0.73554  -0.423  0.67405   \n",
       "size         0.13827    0.04389   3.150  0.00266 **\n",
       "---\n",
       "Signif. codes:  0 ‘***’ 0.001 ‘**’ 0.01 ‘*’ 0.05 ‘.’ 0.1 ‘ ’ 1\n",
       "\n",
       "Residual standard error: 2.432 on 54 degrees of freedom\n",
       "Multiple R-squared:  0.1553,\tAdjusted R-squared:  0.1396 \n",
       "F-statistic: 9.926 on 1 and 54 DF,  p-value: 0.002657\n"
      ]
     },
     "metadata": {},
     "output_type": "display_data"
    }
   ],
   "source": [
    "# (b)\n",
    "lm=lm(incidence~size,data=cbpp)\n",
    "summary(lm)\n",
    "#For a one unit increase in herd size, CBPP incidence increases by .13827; \n",
    "#this estimate for the relation between herd size and incidence is significantly different from 0. \n",
    "#The RSE tells us that the observed values of herd size deviate from the predicted values by 2.432 units on average.\n",
    "#The adjusted R-squared value tells us that the proportion of variance in CBPP incidence that is explained by herd size is 13.96.\n",
    "#The F-statistic basically gives us the same information as the t-test here; it is more interesting to look at when there are multiple predictors..."
   ]
  },
  {
   "cell_type": "markdown",
   "metadata": {},
   "source": [
    "\n",
    "(c) Use the lmer function to include the herd identifier as a random effect. How does this impact the fixed effect of herd size on CBPP incidence?\n"
   ]
  },
  {
   "cell_type": "code",
   "execution_count": 5,
   "metadata": {},
   "outputs": [
    {
     "name": "stderr",
     "output_type": "stream",
     "text": [
      "boundary (singular) fit: see ?isSingular\n",
      "\n"
     ]
    },
    {
     "data": {
      "text/plain": [
       "Linear mixed model fit by REML ['lmerMod']\n",
       "Formula: incidence ~ size + (size | herd)\n",
       "   Data: cbpp\n",
       "\n",
       "REML criterion at convergence: 240.3\n",
       "\n",
       "Scaled residuals: \n",
       "    Min      1Q  Median      3Q     Max \n",
       "-1.7937 -0.5979 -0.1649  0.4926  2.5174 \n",
       "\n",
       "Random effects:\n",
       " Groups   Name        Variance Std.Dev. Corr \n",
       " herd     (Intercept) 0.5398   0.7347        \n",
       "          size        0.0331   0.1819   -1.00\n",
       " Residual             2.4319   1.5595        \n",
       "Number of obs: 56, groups:  herd, 15\n",
       "\n",
       "Fixed effects:\n",
       "            Estimate Std. Error t value\n",
       "(Intercept) -0.54192    0.63637  -0.852\n",
       "size         0.19645    0.06483   3.030\n",
       "\n",
       "Correlation of Fixed Effects:\n",
       "     (Intr)\n",
       "size -0.822\n",
       "convergence code: 0\n",
       "boundary (singular) fit: see ?isSingular\n"
      ]
     },
     "metadata": {},
     "output_type": "display_data"
    }
   ],
   "source": [
    "# (c)\n",
    "mixed.herd=lmer(incidence~size+(size|herd), data=cbpp)\n",
    "summary(mixed.herd)\n",
    "#the fixed effect estimate in this model is .19645 (it is .13827 in the simple linear model above).\n",
    "#the magnitude of the association between incidence rate and herd size is slightly larger in the mixed effects model."
   ]
  },
  {
   "cell_type": "markdown",
   "metadata": {},
   "source": [
    "\n",
    "(d) Compare the simple linear model (i.e., the fixed effects only model) with the mixed effect model using AIC (https://en.wikipedia.org/wiki/Akaike_information_criterion). Does adding the random effect to the model improve or change the fixed effect?\n"
   ]
  },
  {
   "cell_type": "code",
   "execution_count": 6,
   "metadata": {},
   "outputs": [
    {
     "data": {
      "text/html": [
       "<table>\n",
       "<caption>A data.frame: 2 × 2</caption>\n",
       "<thead>\n",
       "\t<tr><th></th><th scope=col>df</th><th scope=col>AIC</th></tr>\n",
       "\t<tr><th></th><th scope=col>&lt;dbl&gt;</th><th scope=col>&lt;dbl&gt;</th></tr>\n",
       "</thead>\n",
       "<tbody>\n",
       "\t<tr><th scope=row>lm</th><td>3</td><td>262.4036</td></tr>\n",
       "\t<tr><th scope=row>mixed.herd</th><td>6</td><td>252.2996</td></tr>\n",
       "</tbody>\n",
       "</table>\n"
      ],
      "text/latex": [
       "A data.frame: 2 × 2\n",
       "\\begin{tabular}{r|ll}\n",
       "  & df & AIC\\\\\n",
       "  & <dbl> & <dbl>\\\\\n",
       "\\hline\n",
       "\tlm & 3 & 262.4036\\\\\n",
       "\tmixed.herd & 6 & 252.2996\\\\\n",
       "\\end{tabular}\n"
      ],
      "text/markdown": [
       "\n",
       "A data.frame: 2 × 2\n",
       "\n",
       "| <!--/--> | df &lt;dbl&gt; | AIC &lt;dbl&gt; |\n",
       "|---|---|---|\n",
       "| lm | 3 | 262.4036 |\n",
       "| mixed.herd | 6 | 252.2996 |\n",
       "\n"
      ],
      "text/plain": [
       "           df AIC     \n",
       "lm         3  262.4036\n",
       "mixed.herd 6  252.2996"
      ]
     },
     "metadata": {},
     "output_type": "display_data"
    },
    {
     "data": {
      "text/html": [
       "-10.1040454766499"
      ],
      "text/latex": [
       "-10.1040454766499"
      ],
      "text/markdown": [
       "-10.1040454766499"
      ],
      "text/plain": [
       "[1] -10.10405"
      ]
     },
     "metadata": {},
     "output_type": "display_data"
    }
   ],
   "source": [
    "# (d)\n",
    "ic = AIC(lm,mixed.herd)\n",
    "ic\n",
    "diff(ic$AIC)\n",
    "#The difference in AIC is small and the more complex or mixed effects model is the (slightly) more parsimonious model, accounting for more variance in incidence rate even after accounting for its increased complexity."
   ]
  },
  {
   "cell_type": "markdown",
   "metadata": {},
   "source": [
    "---\n",
    "\n",
    "5. Load the HCP dataset.\n",
    "\n",
    "_(a) Make a new data frame that includes the fields for subject ID (Subject), gender (Gender), age (Age), intracranial volume (FS_IntraCranial_Vol), and total gray matter volume (FS_Total_GM_Vol). Load the variables in that order. Remove the _na_'s and z-score the values for intracranial volume and total gray matter volume._"
   ]
  },
  {
   "cell_type": "code",
   "execution_count": 7,
   "metadata": {},
   "outputs": [],
   "source": [
    "# -------------------------------\n",
    "# Question 5\n",
    "# -------------------------------\n",
    "d<-read.csv('/Users/shirleyduong/Desktop/Duong_DSPN_S20/unrestricted_trimmed_1_7_2020_10_50_44.csv')\n",
    "d1<-select(d, Subject, Gender, Age, FS_IntraCranial_Vol,FS_Total_GM_Vol)\n",
    "d1<-na.omit(d1)\n",
    "d1<-mutate(d1, FS_IntraCranial_Vol_z=(FS_IntraCranial_Vol-mean(FS_IntraCranial_Vol))/sd(FS_IntraCranial_Vol))\n",
    "d1<-mutate(d1, FS_Total_GM_Vol_z=(FS_Total_GM_Vol-mean(FS_Total_GM_Vol))/sd(FS_Total_GM_Vol))\n"
   ]
  },
  {
   "cell_type": "markdown",
   "metadata": {},
   "source": [
    "<br>\n",
    "\n",
    "(b) Take this new dataframe and fit a simple logistic regression model to classify gender based on the intracranial volume measure and examine the model fit using the summary function_\n"
   ]
  },
  {
   "cell_type": "code",
   "execution_count": 8,
   "metadata": {},
   "outputs": [
    {
     "data": {
      "text/plain": [
       "\n",
       "Call:\n",
       "glm(formula = Gender ~ FS_IntraCranial_Vol_z, family = binomial, \n",
       "    data = d1)\n",
       "\n",
       "Deviance Residuals: \n",
       "    Min       1Q   Median       3Q      Max  \n",
       "-2.5646  -0.6769  -0.1836   0.6434   3.5450  \n",
       "\n",
       "Coefficients:\n",
       "                      Estimate Std. Error z value Pr(>|z|)    \n",
       "(Intercept)           -0.36336    0.08133  -4.467 7.91e-06 ***\n",
       "FS_IntraCranial_Vol_z  2.22771    0.13192  16.886  < 2e-16 ***\n",
       "---\n",
       "Signif. codes:  0 ‘***’ 0.001 ‘**’ 0.01 ‘*’ 0.05 ‘.’ 0.1 ‘ ’ 1\n",
       "\n",
       "(Dispersion parameter for binomial family taken to be 1)\n",
       "\n",
       "    Null deviance: 1534.13  on 1112  degrees of freedom\n",
       "Residual deviance:  968.67  on 1111  degrees of freedom\n",
       "AIC: 972.67\n",
       "\n",
       "Number of Fisher Scoring iterations: 5\n"
      ]
     },
     "metadata": {},
     "output_type": "display_data"
    }
   ],
   "source": [
    "# (b)\n",
    "glm.log=glm(Gender~FS_IntraCranial_Vol_z, data=d1, family=binomial)\n",
    "summary(glm.log)\n",
    "#it appears that there is an association between intracranial volume and gender."
   ]
  },
  {
   "cell_type": "markdown",
   "metadata": {},
   "source": [
    "<br>\n",
    "\n",
    "(c) Calculate the confusion matrix for evaluating how well the model can classify the dataset and find the classification accuracy for the logistic regression model. Report the classification accuracy.\n",
    "\n",
    "**Note:** Be careful to take note how R automatically codes Gender and make sure your labels are matched accordingly.\n"
   ]
  },
  {
   "cell_type": "code",
   "execution_count": 9,
   "metadata": {},
   "outputs": [
    {
     "data": {
      "text/html": [
       "<table>\n",
       "<caption>A matrix: 2 × 1 of type dbl</caption>\n",
       "<thead>\n",
       "\t<tr><th></th><th scope=col>M</th></tr>\n",
       "</thead>\n",
       "<tbody>\n",
       "\t<tr><th scope=row>F</th><td>0</td></tr>\n",
       "\t<tr><th scope=row>M</th><td>1</td></tr>\n",
       "</tbody>\n",
       "</table>\n"
      ],
      "text/latex": [
       "A matrix: 2 × 1 of type dbl\n",
       "\\begin{tabular}{r|l}\n",
       "  & M\\\\\n",
       "\\hline\n",
       "\tF & 0\\\\\n",
       "\tM & 1\\\\\n",
       "\\end{tabular}\n"
      ],
      "text/markdown": [
       "\n",
       "A matrix: 2 × 1 of type dbl\n",
       "\n",
       "| <!--/--> | M |\n",
       "|---|---|\n",
       "| F | 0 |\n",
       "| M | 1 |\n",
       "\n"
      ],
      "text/plain": [
       "  M\n",
       "F 0\n",
       "M 1"
      ]
     },
     "metadata": {},
     "output_type": "display_data"
    },
    {
     "data": {
      "text/plain": [
       "         actual\n",
       "predicted   F   M\n",
       "        F 506 113\n",
       "        M 100 394"
      ]
     },
     "metadata": {},
     "output_type": "display_data"
    },
    {
     "data": {
      "text/html": [
       "0.808625336927224"
      ],
      "text/latex": [
       "0.808625336927224"
      ],
      "text/markdown": [
       "0.808625336927224"
      ],
      "text/plain": [
       "[1] 0.8086253"
      ]
     },
     "metadata": {},
     "output_type": "display_data"
    }
   ],
   "source": [
    "# (c)\n",
    "glm_prob_df = data.frame(predict(glm.log, type = \"response\"))\n",
    "colnames(glm_prob_df) = c('predicted_prob')\n",
    "glm_prob_df$index = seq(1, nrow(glm_prob_df))\n",
    "contrasts(d1$Gender)\n",
    "glm_prob_df<-mutate(glm_prob_df, predicted_binary=ifelse(predicted_prob>.5, \"M\", \"F\"))\n",
    "\n",
    "#look at prediction accuracy\n",
    "confusion = data.frame(glm_prob_df$predicted_binary, d1$Gender)\n",
    "colnames(confusion) = c('predicted', 'actual')\n",
    "table(confusion)\n",
    "mean(confusion$predicted == confusion$actual)\n",
    "#the classification accuracy is .81"
   ]
  },
  {
   "cell_type": "markdown",
   "metadata": {},
   "source": [
    "<br>\n",
    "\n",
    "(d) Using the _boot_ library, calculate the leave one out cross-validation (LOOCV) for the same model you fit in (b)."
   ]
  },
  {
   "cell_type": "code",
   "execution_count": 10,
   "metadata": {},
   "outputs": [
    {
     "data": {
      "text/html": [
       "<ol class=list-inline>\n",
       "\t<li>0.136790098816271</li>\n",
       "\t<li>0.136789845611662</li>\n",
       "</ol>\n"
      ],
      "text/latex": [
       "\\begin{enumerate*}\n",
       "\\item 0.136790098816271\n",
       "\\item 0.136789845611662\n",
       "\\end{enumerate*}\n"
      ],
      "text/markdown": [
       "1. 0.136790098816271\n",
       "2. 0.136789845611662\n",
       "\n",
       "\n"
      ],
      "text/plain": [
       "[1] 0.1367901 0.1367898"
      ]
     },
     "metadata": {},
     "output_type": "display_data"
    }
   ],
   "source": [
    "# (d)\n",
    "library(boot)\n",
    "cv.err  = cv.glm(d1, glm.log, K=nrow(d1))\n",
    "cv.err$delta\n",
    "#raw cross-validation estimate of prediction error = .136790098816271\n",
    "#adjusted cross-validation estimate = .136789845611662"
   ]
  },
  {
   "cell_type": "markdown",
   "metadata": {},
   "source": [
    "<br>\n",
    "\n",
    "(e) Now test the k-fold cross validation accuracy using K=10. Is this better, worse, or the same than the LOCCV accuracy?"
   ]
  },
  {
   "cell_type": "code",
   "execution_count": 11,
   "metadata": {},
   "outputs": [
    {
     "data": {
      "text/html": [
       "<ol class=list-inline>\n",
       "\t<li>0.136618086368127</li>\n",
       "\t<li>0.136597156506733</li>\n",
       "</ol>\n"
      ],
      "text/latex": [
       "\\begin{enumerate*}\n",
       "\\item 0.136618086368127\n",
       "\\item 0.136597156506733\n",
       "\\end{enumerate*}\n"
      ],
      "text/markdown": [
       "1. 0.136618086368127\n",
       "2. 0.136597156506733\n",
       "\n",
       "\n"
      ],
      "text/plain": [
       "[1] 0.1366181 0.1365972"
      ]
     },
     "metadata": {},
     "output_type": "display_data"
    }
   ],
   "source": [
    "# (e)\n",
    "cv.err.k  = cv.glm(d1, glm.log, K=10)\n",
    "cv.err.k$delta\n",
    "#The k-fold cross validation accuracy is just about the same as the LOOCV accuracy (and less computationally costly)."
   ]
  },
  {
   "cell_type": "markdown",
   "metadata": {},
   "source": [
    "(f) Finally, fit a LDA model with the same variables and plot the model fit. Make sure you load the MASS library to use the lda function. What's the classification accuracy of the LDA model?"
   ]
  },
  {
   "cell_type": "code",
   "execution_count": 12,
   "metadata": {},
   "outputs": [
    {
     "name": "stderr",
     "output_type": "stream",
     "text": [
      "\n",
      "Attaching package: ‘MASS’\n",
      "\n",
      "\n",
      "The following object is masked from ‘package:dplyr’:\n",
      "\n",
      "    select\n",
      "\n",
      "\n"
     ]
    },
    {
     "data": {
      "text/plain": [
       "Call:\n",
       "lda(Gender ~ FS_IntraCranial_Vol_z, data = d1)\n",
       "\n",
       "Prior probabilities of groups:\n",
       "        F         M \n",
       "0.5444744 0.4555256 \n",
       "\n",
       "Group means:\n",
       "  FS_IntraCranial_Vol_z\n",
       "F            -0.5673165\n",
       "M             0.6780943\n",
       "\n",
       "Coefficients of linear discriminants:\n",
       "                           LD1\n",
       "FS_IntraCranial_Vol_z 1.274621"
      ]
     },
     "metadata": {},
     "output_type": "display_data"
    },
    {
     "data": {
      "text/plain": [
       "          \n",
       "lda.gender   F   M\n",
       "         F 501 111\n",
       "         M 105 396"
      ]
     },
     "metadata": {},
     "output_type": "display_data"
    },
    {
     "data": {
      "text/html": [
       "0.805929919137466"
      ],
      "text/latex": [
       "0.805929919137466"
      ],
      "text/markdown": [
       "0.805929919137466"
      ],
      "text/plain": [
       "[1] 0.8059299"
      ]
     },
     "metadata": {},
     "output_type": "display_data"
    },
    {
     "data": {
      "image/png": "[encoded data removed]",
      "text/plain": [
       "plot without title"
      ]
     },
     "metadata": {
      "image/png": {
       "height": 420,
       "width": 420
      },
      "text/plain": {
       "height": 420,
       "width": 420
      }
     },
     "output_type": "display_data"
    }
   ],
   "source": [
    "# (f)\n",
    "library(MASS)\n",
    "lda.fit = lda(Gender~FS_IntraCranial_Vol_z, data=d1)\n",
    "lda.fit\n",
    "plot(lda.fit)\n",
    "\n",
    "#make predictions from LDA coefficients\n",
    "lda.pred=predict(lda.fit)\n",
    "lda.gender=lda.pred$class\n",
    "table(lda.gender, d1$Gender)\n",
    "mean(lda.gender==d1$Gender)\n",
    "#classification accuracy is .81\n"
   ]
  },
  {
   "cell_type": "code",
   "execution_count": null,
   "metadata": {},
   "outputs": [],
   "source": []
  }
 ],
 "metadata": {
  "kernelspec": {
   "display_name": "R",
   "language": "R",
   "name": "ir"
  },
  "language_info": {
   "codemirror_mode": "r",
   "file_extension": ".r",
   "mimetype": "text/x-r-source",
   "name": "R",
   "pygments_lexer": "r",
   "version": "3.6.2"
  }
 },
 "nbformat": 4,
 "nbformat_minor": 2
}
