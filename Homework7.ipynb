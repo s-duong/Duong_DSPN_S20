{
 "cells": [
  {
   "cell_type": "markdown",
   "metadata": {},
   "source": [
    "# Homework 7: \n",
    "\n",
    "**DUE:** 5pm EST, April 30, 2020"
   ]
  },
  {
   "cell_type": "markdown",
   "metadata": {},
   "source": [
    "### **Conceptual:** Short answer questions. Be concise\n",
    "\n",
    "---"
   ]
  },
  {
   "cell_type": "markdown",
   "metadata": {},
   "source": [
    "1. Suppose we produce ten bootstrapped samples from a data set containing red and green classes. We then apply a classification tree to each bootstrapped sample and, for a specific value of X, produce 10 estimates of P(Class is Red|X): 0.1, 0.15, 0.2, 0.2, 0.55, 0.6, 0.6, 0.65, 0.7, and 0.75.\n",
    "\n",
    "There are two common ways to combine these results together into a single class prediction. One is the majority vote approach discussed in class and the _ILSR_ Chapter 8. The second approach is to classify based on the average probability. What is the final classification under each of these two approaches? What does the difference in classification aggregation (if any) tell us about tree approaches?"
   ]
  },
  {
   "cell_type": "markdown",
   "metadata": {},
   "source": [
    "**Answer:**\n"
   ]
  },
  {
   "cell_type": "markdown",
   "metadata": {},
   "source": [
    "---\n",
    "2. Explain why out of bag (OOB) error provides a more reliable estimate of model test error than a more traditional hold out test set approach. "
   ]
  },
  {
   "cell_type": "markdown",
   "metadata": {},
   "source": [
    "**Answer:**\n"
   ]
  },
  {
   "cell_type": "markdown",
   "metadata": {},
   "source": [
    "---\n",
    "\n",
    "### **Applied:** Show your code & plots\n",
    "\n",
    "We will use the HCP dataset for these problems. Include conceptual answers to questions as comments in code cells. You should use the tidyverse and class libraries for this assignment, as well as the data table for the HCP data set.\n",
    "\n",
    "You will need to have the \"tidyverse\", \"tree\" and \"randomForest\" packages installed to answer these problems.\n"
   ]
  },
  {
   "cell_type": "markdown",
   "metadata": {},
   "source": [
    "3. Use trees methods to predict unadjusted Flanker task (Flanker_Unadj) performance using a set of demographic, neural, and other cognitive factors. \n",
    "\n",
    "\n",
    "(a) Start by loading the HCP data and get a cleaned and tidy data table containing only Gender, Age, Flanker_Unadj, FS_Tot_WM_Vol, FS_Total_GM_Vol, WM_Task_Acc, ReadEng_Unadj, Language_Task_Acc, Dexterity_Unadj, PosAffect_Unadj, Relational_Task_Acc as our variables of interest."
   ]
  },
  {
   "cell_type": "code",
   "execution_count": 1,
   "metadata": {},
   "outputs": [],
   "source": [
    "# -------------------------------\n",
    "# Question 3\n",
    "# -------------------------------\n",
    "\n",
    "# (a)\n"
   ]
  },
  {
   "cell_type": "markdown",
   "metadata": {},
   "source": [
    "(b) Fit a regression tree model with Flanker_Unadj as the response variable and all others as predictor variables. Prune your tree to find the best model fit using as few terminal nodes as possible and show that the model fit improves after pruning. Plot your tree, plot tree size versues model deviance, determine the test accuracy on a hold out test set, and show a pruned model performance.\n"
   ]
  },
  {
   "cell_type": "code",
   "execution_count": 2,
   "metadata": {},
   "outputs": [],
   "source": [
    "# (b)\n"
   ]
  },
  {
   "cell_type": "markdown",
   "metadata": {},
   "source": [
    "4. Use the same data table to fit a classification tree with gender as the response variable and all others as predictor variables. Prune your tree and find the best model fit using as few terminal nodes as possible, and show that your model fit improves after pruning. Evaluate your model using a hold out test sample.\n"
   ]
  },
  {
   "cell_type": "code",
   "execution_count": 3,
   "metadata": {},
   "outputs": [],
   "source": [
    "# -------------------------------\n",
    "# Question 4\n",
    "# -------------------------------\n"
   ]
  },
  {
   "cell_type": "markdown",
   "metadata": {},
   "source": [
    "5. Use the same data table to fit a random forest model for the classification task with m = 3 Check test accuracy and visualize feature importance for classfying gender.  "
   ]
  },
  {
   "cell_type": "code",
   "execution_count": 4,
   "metadata": {},
   "outputs": [],
   "source": [
    "# -------------------------------\n",
    "# Question 5\n",
    "# -------------------------------\n",
    "\n"
   ]
  }
 ],
 "metadata": {
  "kernelspec": {
   "display_name": "R",
   "language": "R",
   "name": "ir"
  },
  "language_info": {
   "codemirror_mode": "r",
   "file_extension": ".r",
   "mimetype": "text/x-r-source",
   "name": "R",
   "pygments_lexer": "r",
   "version": "3.6.2"
  }
 },
 "nbformat": 4,
 "nbformat_minor": 2
}
